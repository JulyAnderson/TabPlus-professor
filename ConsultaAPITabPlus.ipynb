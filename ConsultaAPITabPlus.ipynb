{
  "cells": [
    {
      "cell_type": "markdown",
      "metadata": {
        "id": "cbljcZCr_b5h"
      },
      "source": [
        "# Tab+: Analisando dados dos jogos."
      ]
    },
    {
      "cell_type": "markdown",
      "metadata": {
        "id": "dZus0dJyAdDm"
      },
      "source": [
        "O Tab+ é um jogo de navegador do tipo endless runner (corrida infinita) direcionado as alunos do Ensino Fundamental II para incentivar a aprendizagem da tabuada.\\\n",
        "O jogo coleta informações e persiste dados durante a partida e abaixo apresentamos um dicionário desses dados."
      ]
    },
    {
      "cell_type": "markdown",
      "metadata": {
        "id": "EAs4dDTd_oDZ"
      },
      "source": [
        "## Dicionário de dados"
      ]
    },
    {
      "cell_type": "markdown",
      "metadata": {
        "id": "ZxEj5ZGhA915"
      },
      "source": [
        "**game_id**: é o identificador único da partida do tipo Inteiro;\\\n",
        "**game_grade**: é uma string na forma AnoTurma que identifica as diferentes turmas dos jogadores;\\\n",
        "**game_year**: é um número inteiro que representa em qual ano a partida foi jogada;\\\n",
        "**player**: é um identificador do jogador na partida do tipo string;\\\n",
        "**hits**: é um número inteiro que indica a pontuação do Jogador;\\\n",
        "**multiplication**: é uma string que mostra qual a multiplicação que encerrou o jogo, ou seja, qual a multiplicação o jogador não conseguiu acertar;\\\n",
        "**answer**:\té um número inteiro que indica qual a resposta incorreta informada pelo jogador;\\\n",
        "**result**: é um número inteiro que indica a resposta correta para a questão que gerou o encerramento da partida;\n",
        "\n"
      ]
    },
    {
      "cell_type": "markdown",
      "metadata": {
        "id": "AfMnjJyuCjZ2"
      },
      "source": [
        "## Importando as bibliotecas"
      ]
    },
    {
      "cell_type": "code",
      "execution_count": 1,
      "metadata": {
        "id": "hYRp_XC7eY2K"
      },
      "outputs": [
        {
          "ename": "",
          "evalue": "",
          "output_type": "error",
          "traceback": [
            "\u001b[1;31mFailed to connect to the remote Jupyter Server 'http://localhost:8888/'. Verify the server is running and reachable. (\n",
            "\u001b[1;31mIPython 8.13+ supports Python 3.9 and above, following NEP 29.\n",
            "\u001b[1;31mIPython 8.0-8.12 supports Python 3.8 and above, following NEP 29.\n",
            "\u001b[1;31mWhen using Python 2.7, please install IPython 5.x LTS Long Term Support version.\n",
            "\u001b[1;31mPython 3.3 and 3.4 were supported up to IPython 6.x.\n",
            "\u001b[1;31mPython 3.5 was supported with IPython 7.0 to 7.9.\n",
            "\u001b[1;31mPython 3.6 was supported with IPython up to 7.16.\n",
            "\u001b[1;31mPython 3.7 was still supported with the 7.x branch.\n",
            "\u001b[1;31m\n",
            "\u001b[1;31mSee IPython `README.rst` file for more information:\n",
            "\u001b[1;31m\n",
            "\u001b[1;31m    https://github.com/ipython/ipython/blob/main/README.rst\n",
            "\u001b[1;31m\n",
            "\u001b[1;31m)."
          ]
        }
      ],
      "source": [
        "import requests\n",
        "import json\n",
        "import pandas as pd\n",
        "import matplotlib.pyplot as plt\n",
        "import numpy as np\n",
        "import seaborn as sns"
      ]
    },
    {
      "cell_type": "markdown",
      "metadata": {
        "id": "edTCAEoaCqXx"
      },
      "source": [
        "# Estabelecendo conexão com a API"
      ]
    },
    {
      "cell_type": "code",
      "execution_count": 2,
      "metadata": {
        "id": "RITP2vTZq4Mq"
      },
      "outputs": [],
      "source": [
        "# def get_all_games():\n",
        "#     base_url = \"https://tabplusbackend.onrender.com/Game\"\n",
        "#     endpoint = \"/searchAll\"\n",
        "#     url = base_url + endpoint\n",
        "\n",
        "#     try:\n",
        "#         response = requests.get(url)\n",
        "#         # Verifica se a resposta foi bem-sucedida (código 200)\n",
        "#         if response.status_code == 200:\n",
        "#             # Retorna os dados em formato JSON\n",
        "#             games = response.text\n",
        "#             games = json.loads(games)\n",
        "#             return games\n",
        "#         else:\n",
        "#             print(\"Erro na requisição:\", response.status_code)\n",
        "#             return None\n",
        "#     except Exception as e:\n",
        "#         print(\"Erro na requisição:\", e)\n",
        "#         return None\n",
        "\n",
        "# games = get_all_games()\n",
        "\n",
        "# df = pd.DataFrame(games)\n",
        "# df.to_csv('games_inicial.csv', index=False)\n",
        "# df.head(2)"
      ]
    },
    {
      "cell_type": "markdown",
      "metadata": {
        "id": "40K3p2Sn_bBr"
      },
      "source": [
        "## Carregando o DataFrame inicial"
      ]
    },
    {
      "cell_type": "code",
      "execution_count": 2,
      "metadata": {
        "id": "pfDrwf4orLBK"
      },
      "outputs": [],
      "source": [
        "df = pd.read_csv('games_inicial.csv')"
      ]
    },
    {
      "cell_type": "markdown",
      "metadata": {
        "id": "PKFC06-fdRSF"
      },
      "source": [
        "Encontrando os outliers usados para testes, através da pontuação."
      ]
    },
    {
      "cell_type": "code",
<<<<<<< HEAD
      "execution_count": null,
=======
      "execution_count": 3,
>>>>>>> bfaa4958a25f1a607a4dff95f80ce0ad708716ee
      "metadata": {
        "colab": {
          "base_uri": "https://localhost:8080/",
          "height": 424
        },
        "id": "fmBI2TL2bSLL",
        "outputId": "ef0740c7-fd69-48f8-c99a-1af10ecdeb81"
      },
<<<<<<< HEAD
      "outputs": [],
=======
      "outputs": [
        {
          "data": {
            "text/html": [
              "<div>\n",
              "<style scoped>\n",
              "    .dataframe tbody tr th:only-of-type {\n",
              "        vertical-align: middle;\n",
              "    }\n",
              "\n",
              "    .dataframe tbody tr th {\n",
              "        vertical-align: top;\n",
              "    }\n",
              "\n",
              "    .dataframe thead th {\n",
              "        text-align: right;\n",
              "    }\n",
              "</style>\n",
              "<table border=\"1\" class=\"dataframe\">\n",
              "  <thead>\n",
              "    <tr style=\"text-align: right;\">\n",
              "      <th></th>\n",
              "      <th>game_id</th>\n",
              "      <th>game_grade</th>\n",
              "      <th>game_year</th>\n",
              "      <th>player</th>\n",
              "      <th>hits</th>\n",
              "      <th>multiplication</th>\n",
              "      <th>answer</th>\n",
              "      <th>result</th>\n",
              "    </tr>\n",
              "  </thead>\n",
              "  <tbody>\n",
              "    <tr>\n",
              "      <th>142</th>\n",
              "      <td>163</td>\n",
              "      <td>6B</td>\n",
              "      <td>2024</td>\n",
              "      <td>Daniel</td>\n",
              "      <td>35</td>\n",
              "      <td>4 x 12</td>\n",
              "      <td>92</td>\n",
              "      <td>48</td>\n",
              "    </tr>\n",
              "    <tr>\n",
              "      <th>165</th>\n",
              "      <td>186</td>\n",
              "      <td>6B</td>\n",
              "      <td>2024</td>\n",
              "      <td>Anna Julia Garcia</td>\n",
              "      <td>29</td>\n",
              "      <td>5 x 2</td>\n",
              "      <td>50</td>\n",
              "      <td>10</td>\n",
              "    </tr>\n",
              "    <tr>\n",
              "      <th>170</th>\n",
              "      <td>191</td>\n",
              "      <td>6B</td>\n",
              "      <td>2024</td>\n",
              "      <td>Daniel</td>\n",
              "      <td>28</td>\n",
              "      <td>3 x 6</td>\n",
              "      <td>68</td>\n",
              "      <td>18</td>\n",
              "    </tr>\n",
              "    <tr>\n",
              "      <th>250</th>\n",
              "      <td>271</td>\n",
              "      <td>6B</td>\n",
              "      <td>2024</td>\n",
              "      <td>Karine</td>\n",
              "      <td>24</td>\n",
              "      <td>5 x 1</td>\n",
              "      <td>56</td>\n",
              "      <td>5</td>\n",
              "    </tr>\n",
              "    <tr>\n",
              "      <th>377</th>\n",
              "      <td>398</td>\n",
              "      <td>7E</td>\n",
              "      <td>2024</td>\n",
              "      <td>Eloisa e Cabral</td>\n",
              "      <td>24</td>\n",
              "      <td>10 x 3</td>\n",
              "      <td>0</td>\n",
              "      <td>30</td>\n",
              "    </tr>\n",
              "    <tr>\n",
              "      <th>...</th>\n",
              "      <td>...</td>\n",
              "      <td>...</td>\n",
              "      <td>...</td>\n",
              "      <td>...</td>\n",
              "      <td>...</td>\n",
              "      <td>...</td>\n",
              "      <td>...</td>\n",
              "      <td>...</td>\n",
              "    </tr>\n",
              "    <tr>\n",
              "      <th>0</th>\n",
              "      <td>21</td>\n",
              "      <td>6B</td>\n",
              "      <td>2024</td>\n",
              "      <td>Luara</td>\n",
              "      <td>0</td>\n",
              "      <td>6 x 8</td>\n",
              "      <td>0</td>\n",
              "      <td>48</td>\n",
              "    </tr>\n",
              "    <tr>\n",
              "      <th>410</th>\n",
              "      <td>431</td>\n",
              "      <td>6E</td>\n",
              "      <td>2024</td>\n",
              "      <td>Liozin</td>\n",
              "      <td>0</td>\n",
              "      <td>4 x 8</td>\n",
              "      <td>0</td>\n",
              "      <td>32</td>\n",
              "    </tr>\n",
              "    <tr>\n",
              "      <th>411</th>\n",
              "      <td>432</td>\n",
              "      <td>6E</td>\n",
              "      <td>2024</td>\n",
              "      <td>Lalau</td>\n",
              "      <td>0</td>\n",
              "      <td>0 x 1</td>\n",
              "      <td>0</td>\n",
              "      <td>0</td>\n",
              "    </tr>\n",
              "    <tr>\n",
              "      <th>412</th>\n",
              "      <td>433</td>\n",
              "      <td>6E</td>\n",
              "      <td>2024</td>\n",
              "      <td>Fulano de tal 123</td>\n",
              "      <td>0</td>\n",
              "      <td>3 x 2</td>\n",
              "      <td>0</td>\n",
              "      <td>6</td>\n",
              "    </tr>\n",
              "    <tr>\n",
              "      <th>413</th>\n",
              "      <td>434</td>\n",
              "      <td>6E</td>\n",
              "      <td>2024</td>\n",
              "      <td>Um aleatorio 69</td>\n",
              "      <td>0</td>\n",
              "      <td>0 x 11</td>\n",
              "      <td>59</td>\n",
              "      <td>0</td>\n",
              "    </tr>\n",
              "  </tbody>\n",
              "</table>\n",
              "<p>414 rows × 8 columns</p>\n",
              "</div>"
            ],
            "text/plain": [
              "     game_id game_grade  game_year              player  hits multiplication  \\\n",
              "142      163         6B       2024              Daniel    35         4 x 12   \n",
              "165      186         6B       2024  Anna Julia Garcia     29          5 x 2   \n",
              "170      191         6B       2024              Daniel    28          3 x 6   \n",
              "250      271         6B       2024              Karine    24          5 x 1   \n",
              "377      398         7E       2024    Eloisa e Cabral     24         10 x 3   \n",
              "..       ...        ...        ...                 ...   ...            ...   \n",
              "0         21         6B       2024              Luara      0          6 x 8   \n",
              "410      431         6E       2024              Liozin     0          4 x 8   \n",
              "411      432         6E       2024               Lalau     0          0 x 1   \n",
              "412      433         6E       2024   Fulano de tal 123     0          3 x 2   \n",
              "413      434         6E       2024     Um aleatorio 69     0         0 x 11   \n",
              "\n",
              "     answer  result  \n",
              "142      92      48  \n",
              "165      50      10  \n",
              "170      68      18  \n",
              "250      56       5  \n",
              "377       0      30  \n",
              "..      ...     ...  \n",
              "0         0      48  \n",
              "410       0      32  \n",
              "411       0       0  \n",
              "412       0       6  \n",
              "413      59       0  \n",
              "\n",
              "[414 rows x 8 columns]"
            ]
          },
          "execution_count": 3,
          "metadata": {},
          "output_type": "execute_result"
        }
      ],
>>>>>>> bfaa4958a25f1a607a4dff95f80ce0ad708716ee
      "source": [
        "df.sort_values(by= \"hits\", ascending = False)"
      ]
    },
    {
      "cell_type": "markdown",
      "metadata": {
        "id": "gisv1zU5dv03"
      },
      "source": [
        "Eliminando os valores maiores de 35 pontos, pois esses valores são de testes e podem influenciar a análise posterior."
      ]
    },
    {
      "cell_type": "code",
      "execution_count": 4,
      "metadata": {
        "id": "7UFq4kCwcBUK"
      },
      "outputs": [],
      "source": [
        "df = df.drop(df[df['hits'] >  100 ].index)"
      ]
    },
    {
      "cell_type": "markdown",
      "metadata": {
        "id": "LhewMJT8DRpO"
      },
      "source": [
        "Buscando os valores únicos para a variável player"
      ]
    },
    {
      "cell_type": "code",
<<<<<<< HEAD
      "execution_count": null,
=======
      "execution_count": 5,
>>>>>>> bfaa4958a25f1a607a4dff95f80ce0ad708716ee
      "metadata": {
        "colab": {
          "base_uri": "https://localhost:8080/"
        },
        "id": "SzuqYfOpd7RQ",
        "outputId": "b7849a68-136d-4a31-d13c-3f55bb64faae"
      },
<<<<<<< HEAD
      "outputs": [],
=======
      "outputs": [
        {
          "data": {
            "text/plain": [
              "array(['Luara ', 'Ana Julia Capuci', 'Luara', 'ANA LAURA ',\n",
              "       'Anna Julia Garcia ', 'Daniel', 'Jubiscreuda Careca (Ana G)',\n",
              "       'Anna Júlia Garcia ', 'Anna G', 'Livia dorminhoca', 'Anna G.',\n",
              "       'Miguel, Amanda e isabela', 'Karine', 'Miguel ', 'Amanda',\n",
              "       'Livia dorminhoca ', 'Isabela F', 'Cr7', 'Thiaga', 'Neymar',\n",
              "       'Karine ', 'Fulano de tal ', 'Sla', 'Daniel.',\n",
              "       'Maria Clara Vargas', 'Isabella Paes', 'Davi', 'Amabile',\n",
              "       'Eloá soares ', 'Vinicus', 'Juliane ', 'Maria Clara ',\n",
              "       'mel, Isa valen e ka', 'burro', 'Mel', 'B', 'gay supremo',\n",
              "       'Melissa e Eloísa', 'Helena e Valentina ', 'gay supremo ',\n",
              "       'Isabella', 'Wel', 'kid bengala', 'Lena', 'Isabella ', 'Lena ',\n",
              "       'K', 'terminei o namoro pq estava comendo banana pela budinha',\n",
              "       'Fulano de tal', 'Melissa, Eloísa e Cabral ', 'Ana e julia ',\n",
              "       'Clara', 'de 4', 'Ana e julia', 'heg', 'Bd', 'Melissa', 'J', 'Ehh',\n",
              "       'Melissa ', 'Us', 'uju', 'Eloisa e Cabral ', 'Hdjs',\n",
              "       'hehdhdhdjdjdidjdjdjr', 'Maria ', 'ususi', 'sjsikamakma', 'Isa',\n",
              "       'Ana', 'lo', 'Nati', 'gabriela', 'Maria Clara Vargas ',\n",
              "       'Maria clara', 'Liozin', 'Lalau', 'Fulano de tal 123',\n",
              "       'Um aleatorio 69'], dtype=object)"
            ]
          },
          "execution_count": 5,
          "metadata": {},
          "output_type": "execute_result"
        }
      ],
>>>>>>> bfaa4958a25f1a607a4dff95f80ce0ad708716ee
      "source": [
        "jogadores_unicos= df.player.unique()\n",
        "# jogadores_unicos = list(jogadores_unicos)\n",
        "# jogadores_unicos\n",
        "jogadores_unicos"
      ]
    },
    {
      "cell_type": "markdown",
      "metadata": {
        "id": "6ahdfC1ocyaG"
      },
      "source": [
        "Deletando jogadores de teste."
      ]
    },
    {
      "cell_type": "code",
      "execution_count": 6,
      "metadata": {
        "id": "8L7mmCwceCTi"
      },
      "outputs": [],
      "source": [
        "players_para_eliminar = ['Admin', 'and', 'Teste']\n",
        "df = df[~df['player'].isin(players_para_eliminar)]\n",
        "df.to_csv('games.csv', index=False)"
      ]
    },
    {
      "cell_type": "code",
<<<<<<< HEAD
      "execution_count": null,
=======
      "execution_count": 7,
>>>>>>> bfaa4958a25f1a607a4dff95f80ce0ad708716ee
      "metadata": {
        "colab": {
          "base_uri": "https://localhost:8080/"
        },
        "id": "btUKXIh-e5ph",
        "outputId": "dcd41cd1-c04e-41ae-b3de-fd61c62cae21"
      },
<<<<<<< HEAD
      "outputs": [],
=======
      "outputs": [
        {
          "data": {
            "text/html": [
              "<div>\n",
              "<style scoped>\n",
              "    .dataframe tbody tr th:only-of-type {\n",
              "        vertical-align: middle;\n",
              "    }\n",
              "\n",
              "    .dataframe tbody tr th {\n",
              "        vertical-align: top;\n",
              "    }\n",
              "\n",
              "    .dataframe thead th {\n",
              "        text-align: right;\n",
              "    }\n",
              "</style>\n",
              "<table border=\"1\" class=\"dataframe\">\n",
              "  <thead>\n",
              "    <tr style=\"text-align: right;\">\n",
              "      <th></th>\n",
              "      <th>game_id</th>\n",
              "      <th>game_grade</th>\n",
              "      <th>game_year</th>\n",
              "      <th>player</th>\n",
              "      <th>hits</th>\n",
              "      <th>multiplication</th>\n",
              "      <th>answer</th>\n",
              "      <th>result</th>\n",
              "    </tr>\n",
              "  </thead>\n",
              "  <tbody>\n",
              "    <tr>\n",
              "      <th>15</th>\n",
              "      <td>36</td>\n",
              "      <td>6B</td>\n",
              "      <td>2024</td>\n",
              "      <td>Jubiscreuda Careca (Ana G)</td>\n",
              "      <td>0</td>\n",
              "      <td>8 x 6</td>\n",
              "      <td>0</td>\n",
              "      <td>48</td>\n",
              "    </tr>\n",
              "    <tr>\n",
              "      <th>39</th>\n",
              "      <td>60</td>\n",
              "      <td>6B</td>\n",
              "      <td>2024</td>\n",
              "      <td>Miguel, Amanda e isabela</td>\n",
              "      <td>1</td>\n",
              "      <td>3 x 14</td>\n",
              "      <td>0</td>\n",
              "      <td>42</td>\n",
              "    </tr>\n",
              "    <tr>\n",
              "      <th>114</th>\n",
              "      <td>135</td>\n",
              "      <td>6B</td>\n",
              "      <td>2024</td>\n",
              "      <td>Cr7</td>\n",
              "      <td>3</td>\n",
              "      <td>1 x 9</td>\n",
              "      <td>0</td>\n",
              "      <td>9</td>\n",
              "    </tr>\n",
              "    <tr>\n",
              "      <th>132</th>\n",
              "      <td>153</td>\n",
              "      <td>6B</td>\n",
              "      <td>2024</td>\n",
              "      <td>Thiaga</td>\n",
              "      <td>0</td>\n",
              "      <td>2 x 15</td>\n",
              "      <td>0</td>\n",
              "      <td>30</td>\n",
              "    </tr>\n",
              "    <tr>\n",
              "      <th>150</th>\n",
              "      <td>171</td>\n",
              "      <td>6B</td>\n",
              "      <td>2024</td>\n",
              "      <td>Karine</td>\n",
              "      <td>2</td>\n",
              "      <td>5 x 14</td>\n",
              "      <td>93</td>\n",
              "      <td>70</td>\n",
              "    </tr>\n",
              "    <tr>\n",
              "      <th>154</th>\n",
              "      <td>175</td>\n",
              "      <td>6B</td>\n",
              "      <td>2024</td>\n",
              "      <td>Sla</td>\n",
              "      <td>0</td>\n",
              "      <td>3 x 4</td>\n",
              "      <td>24</td>\n",
              "      <td>12</td>\n",
              "    </tr>\n",
              "    <tr>\n",
              "      <th>175</th>\n",
              "      <td>196</td>\n",
              "      <td>6B</td>\n",
              "      <td>2024</td>\n",
              "      <td>Daniel.</td>\n",
              "      <td>0</td>\n",
              "      <td>4 x 7</td>\n",
              "      <td>57</td>\n",
              "      <td>28</td>\n",
              "    </tr>\n",
              "    <tr>\n",
              "      <th>230</th>\n",
              "      <td>251</td>\n",
              "      <td>6B</td>\n",
              "      <td>2024</td>\n",
              "      <td>Amabile</td>\n",
              "      <td>15</td>\n",
              "      <td>6 x 14</td>\n",
              "      <td>36</td>\n",
              "      <td>84</td>\n",
              "    </tr>\n",
              "    <tr>\n",
              "      <th>290</th>\n",
              "      <td>311</td>\n",
              "      <td>6B</td>\n",
              "      <td>2024</td>\n",
              "      <td>Eloá soares</td>\n",
              "      <td>15</td>\n",
              "      <td>5 x 14</td>\n",
              "      <td>62</td>\n",
              "      <td>70</td>\n",
              "    </tr>\n",
              "    <tr>\n",
              "      <th>291</th>\n",
              "      <td>312</td>\n",
              "      <td>9A</td>\n",
              "      <td>2024</td>\n",
              "      <td>Vinicus</td>\n",
              "      <td>7</td>\n",
              "      <td>1 x 10</td>\n",
              "      <td>90</td>\n",
              "      <td>10</td>\n",
              "    </tr>\n",
              "    <tr>\n",
              "      <th>294</th>\n",
              "      <td>315</td>\n",
              "      <td>7E</td>\n",
              "      <td>2024</td>\n",
              "      <td>mel, Isa valen e ka</td>\n",
              "      <td>0</td>\n",
              "      <td>0 x 15</td>\n",
              "      <td>82</td>\n",
              "      <td>0</td>\n",
              "    </tr>\n",
              "    <tr>\n",
              "      <th>295</th>\n",
              "      <td>316</td>\n",
              "      <td>6C</td>\n",
              "      <td>2024</td>\n",
              "      <td>burro</td>\n",
              "      <td>2</td>\n",
              "      <td>8 x 12</td>\n",
              "      <td>27</td>\n",
              "      <td>96</td>\n",
              "    </tr>\n",
              "    <tr>\n",
              "      <th>297</th>\n",
              "      <td>318</td>\n",
              "      <td>7E</td>\n",
              "      <td>2024</td>\n",
              "      <td>Mel</td>\n",
              "      <td>3</td>\n",
              "      <td>4 x 14</td>\n",
              "      <td>0</td>\n",
              "      <td>56</td>\n",
              "    </tr>\n",
              "    <tr>\n",
              "      <th>298</th>\n",
              "      <td>319</td>\n",
              "      <td>7E</td>\n",
              "      <td>2024</td>\n",
              "      <td>B</td>\n",
              "      <td>0</td>\n",
              "      <td>6 x 12</td>\n",
              "      <td>0</td>\n",
              "      <td>72</td>\n",
              "    </tr>\n",
              "    <tr>\n",
              "      <th>302</th>\n",
              "      <td>323</td>\n",
              "      <td>6B</td>\n",
              "      <td>2024</td>\n",
              "      <td>gay supremo</td>\n",
              "      <td>3</td>\n",
              "      <td>7 x 12</td>\n",
              "      <td>96</td>\n",
              "      <td>84</td>\n",
              "    </tr>\n",
              "    <tr>\n",
              "      <th>305</th>\n",
              "      <td>326</td>\n",
              "      <td>7E</td>\n",
              "      <td>2024</td>\n",
              "      <td>Helena e Valentina</td>\n",
              "      <td>0</td>\n",
              "      <td>7 x 6</td>\n",
              "      <td>0</td>\n",
              "      <td>42</td>\n",
              "    </tr>\n",
              "    <tr>\n",
              "      <th>306</th>\n",
              "      <td>327</td>\n",
              "      <td>6C</td>\n",
              "      <td>2024</td>\n",
              "      <td>gay supremo</td>\n",
              "      <td>0</td>\n",
              "      <td>4 x 15</td>\n",
              "      <td>0</td>\n",
              "      <td>60</td>\n",
              "    </tr>\n",
              "    <tr>\n",
              "      <th>309</th>\n",
              "      <td>330</td>\n",
              "      <td>7E</td>\n",
              "      <td>2024</td>\n",
              "      <td>Wel</td>\n",
              "      <td>5</td>\n",
              "      <td>5 x 12</td>\n",
              "      <td>56</td>\n",
              "      <td>60</td>\n",
              "    </tr>\n",
              "    <tr>\n",
              "      <th>310</th>\n",
              "      <td>331</td>\n",
              "      <td>7C</td>\n",
              "      <td>2024</td>\n",
              "      <td>kid bengala</td>\n",
              "      <td>0</td>\n",
              "      <td>10 x 0</td>\n",
              "      <td>17</td>\n",
              "      <td>0</td>\n",
              "    </tr>\n",
              "    <tr>\n",
              "      <th>319</th>\n",
              "      <td>340</td>\n",
              "      <td>7C</td>\n",
              "      <td>2024</td>\n",
              "      <td>terminei o namoro pq estava comendo banana pel...</td>\n",
              "      <td>1</td>\n",
              "      <td>3 x 2</td>\n",
              "      <td>11</td>\n",
              "      <td>6</td>\n",
              "    </tr>\n",
              "    <tr>\n",
              "      <th>320</th>\n",
              "      <td>341</td>\n",
              "      <td>9C</td>\n",
              "      <td>2024</td>\n",
              "      <td>Fulano de tal</td>\n",
              "      <td>3</td>\n",
              "      <td>9 x 13</td>\n",
              "      <td>43</td>\n",
              "      <td>117</td>\n",
              "    </tr>\n",
              "    <tr>\n",
              "      <th>321</th>\n",
              "      <td>342</td>\n",
              "      <td>7E</td>\n",
              "      <td>2024</td>\n",
              "      <td>Melissa, Eloísa e Cabral</td>\n",
              "      <td>19</td>\n",
              "      <td>4 x 12</td>\n",
              "      <td>81</td>\n",
              "      <td>48</td>\n",
              "    </tr>\n",
              "    <tr>\n",
              "      <th>322</th>\n",
              "      <td>343</td>\n",
              "      <td>7E</td>\n",
              "      <td>2024</td>\n",
              "      <td>Ana e julia</td>\n",
              "      <td>0</td>\n",
              "      <td>5 x 12</td>\n",
              "      <td>0</td>\n",
              "      <td>60</td>\n",
              "    </tr>\n",
              "    <tr>\n",
              "      <th>325</th>\n",
              "      <td>346</td>\n",
              "      <td>9D</td>\n",
              "      <td>2024</td>\n",
              "      <td>de 4</td>\n",
              "      <td>4</td>\n",
              "      <td>5 x 6</td>\n",
              "      <td>6</td>\n",
              "      <td>30</td>\n",
              "    </tr>\n",
              "    <tr>\n",
              "      <th>328</th>\n",
              "      <td>349</td>\n",
              "      <td>7E</td>\n",
              "      <td>2024</td>\n",
              "      <td>Ana e julia</td>\n",
              "      <td>0</td>\n",
              "      <td>9 x 14</td>\n",
              "      <td>0</td>\n",
              "      <td>126</td>\n",
              "    </tr>\n",
              "    <tr>\n",
              "      <th>331</th>\n",
              "      <td>352</td>\n",
              "      <td>7E</td>\n",
              "      <td>2024</td>\n",
              "      <td>heg</td>\n",
              "      <td>0</td>\n",
              "      <td>7 x 9</td>\n",
              "      <td>96</td>\n",
              "      <td>63</td>\n",
              "    </tr>\n",
              "    <tr>\n",
              "      <th>333</th>\n",
              "      <td>354</td>\n",
              "      <td>7E</td>\n",
              "      <td>2024</td>\n",
              "      <td>Bd</td>\n",
              "      <td>2</td>\n",
              "      <td>5 x 14</td>\n",
              "      <td>0</td>\n",
              "      <td>70</td>\n",
              "    </tr>\n",
              "    <tr>\n",
              "      <th>335</th>\n",
              "      <td>356</td>\n",
              "      <td>7E</td>\n",
              "      <td>2024</td>\n",
              "      <td>Melissa</td>\n",
              "      <td>6</td>\n",
              "      <td>8 x 6</td>\n",
              "      <td>57</td>\n",
              "      <td>48</td>\n",
              "    </tr>\n",
              "    <tr>\n",
              "      <th>342</th>\n",
              "      <td>363</td>\n",
              "      <td>7E</td>\n",
              "      <td>2024</td>\n",
              "      <td>Ehh</td>\n",
              "      <td>17</td>\n",
              "      <td>3 x 10</td>\n",
              "      <td>0</td>\n",
              "      <td>30</td>\n",
              "    </tr>\n",
              "    <tr>\n",
              "      <th>346</th>\n",
              "      <td>367</td>\n",
              "      <td>7C</td>\n",
              "      <td>2024</td>\n",
              "      <td>Us</td>\n",
              "      <td>6</td>\n",
              "      <td>8 x 8</td>\n",
              "      <td>0</td>\n",
              "      <td>64</td>\n",
              "    </tr>\n",
              "    <tr>\n",
              "      <th>349</th>\n",
              "      <td>370</td>\n",
              "      <td>9B</td>\n",
              "      <td>2024</td>\n",
              "      <td>uju</td>\n",
              "      <td>0</td>\n",
              "      <td>5 x 5</td>\n",
              "      <td>0</td>\n",
              "      <td>25</td>\n",
              "    </tr>\n",
              "    <tr>\n",
              "      <th>356</th>\n",
              "      <td>377</td>\n",
              "      <td>7E</td>\n",
              "      <td>2024</td>\n",
              "      <td>Hdjs</td>\n",
              "      <td>0</td>\n",
              "      <td>7 x 2</td>\n",
              "      <td>0</td>\n",
              "      <td>14</td>\n",
              "    </tr>\n",
              "    <tr>\n",
              "      <th>357</th>\n",
              "      <td>378</td>\n",
              "      <td>8D</td>\n",
              "      <td>2024</td>\n",
              "      <td>hehdhdhdjdjdidjdjdjr</td>\n",
              "      <td>0</td>\n",
              "      <td>4 x 13</td>\n",
              "      <td>0</td>\n",
              "      <td>52</td>\n",
              "    </tr>\n",
              "    <tr>\n",
              "      <th>360</th>\n",
              "      <td>381</td>\n",
              "      <td>7E</td>\n",
              "      <td>2024</td>\n",
              "      <td>Maria</td>\n",
              "      <td>6</td>\n",
              "      <td>6 x 13</td>\n",
              "      <td>62</td>\n",
              "      <td>78</td>\n",
              "    </tr>\n",
              "    <tr>\n",
              "      <th>362</th>\n",
              "      <td>383</td>\n",
              "      <td>9D</td>\n",
              "      <td>2024</td>\n",
              "      <td>ususi</td>\n",
              "      <td>2</td>\n",
              "      <td>10 x 0</td>\n",
              "      <td>0</td>\n",
              "      <td>0</td>\n",
              "    </tr>\n",
              "    <tr>\n",
              "      <th>364</th>\n",
              "      <td>385</td>\n",
              "      <td>6D</td>\n",
              "      <td>2024</td>\n",
              "      <td>sjsikamakma</td>\n",
              "      <td>1</td>\n",
              "      <td>7 x 14</td>\n",
              "      <td>63</td>\n",
              "      <td>98</td>\n",
              "    </tr>\n",
              "    <tr>\n",
              "      <th>367</th>\n",
              "      <td>388</td>\n",
              "      <td>7E</td>\n",
              "      <td>2024</td>\n",
              "      <td>Ana</td>\n",
              "      <td>11</td>\n",
              "      <td>5 x 10</td>\n",
              "      <td>0</td>\n",
              "      <td>50</td>\n",
              "    </tr>\n",
              "    <tr>\n",
              "      <th>404</th>\n",
              "      <td>425</td>\n",
              "      <td>6B</td>\n",
              "      <td>2024</td>\n",
              "      <td>Nati</td>\n",
              "      <td>1</td>\n",
              "      <td>3 x 8</td>\n",
              "      <td>0</td>\n",
              "      <td>24</td>\n",
              "    </tr>\n",
              "    <tr>\n",
              "      <th>408</th>\n",
              "      <td>429</td>\n",
              "      <td>6B</td>\n",
              "      <td>2024</td>\n",
              "      <td>Maria Clara Vargas</td>\n",
              "      <td>2</td>\n",
              "      <td>6 x 8</td>\n",
              "      <td>71</td>\n",
              "      <td>48</td>\n",
              "    </tr>\n",
              "    <tr>\n",
              "      <th>409</th>\n",
              "      <td>430</td>\n",
              "      <td>6B</td>\n",
              "      <td>2024</td>\n",
              "      <td>Maria clara</td>\n",
              "      <td>5</td>\n",
              "      <td>8 x 12</td>\n",
              "      <td>76</td>\n",
              "      <td>96</td>\n",
              "    </tr>\n",
              "    <tr>\n",
              "      <th>410</th>\n",
              "      <td>431</td>\n",
              "      <td>6E</td>\n",
              "      <td>2024</td>\n",
              "      <td>Liozin</td>\n",
              "      <td>0</td>\n",
              "      <td>4 x 8</td>\n",
              "      <td>0</td>\n",
              "      <td>32</td>\n",
              "    </tr>\n",
              "    <tr>\n",
              "      <th>411</th>\n",
              "      <td>432</td>\n",
              "      <td>6E</td>\n",
              "      <td>2024</td>\n",
              "      <td>Lalau</td>\n",
              "      <td>0</td>\n",
              "      <td>0 x 1</td>\n",
              "      <td>0</td>\n",
              "      <td>0</td>\n",
              "    </tr>\n",
              "    <tr>\n",
              "      <th>412</th>\n",
              "      <td>433</td>\n",
              "      <td>6E</td>\n",
              "      <td>2024</td>\n",
              "      <td>Fulano de tal 123</td>\n",
              "      <td>0</td>\n",
              "      <td>3 x 2</td>\n",
              "      <td>0</td>\n",
              "      <td>6</td>\n",
              "    </tr>\n",
              "    <tr>\n",
              "      <th>413</th>\n",
              "      <td>434</td>\n",
              "      <td>6E</td>\n",
              "      <td>2024</td>\n",
              "      <td>Um aleatorio 69</td>\n",
              "      <td>0</td>\n",
              "      <td>0 x 11</td>\n",
              "      <td>59</td>\n",
              "      <td>0</td>\n",
              "    </tr>\n",
              "  </tbody>\n",
              "</table>\n",
              "</div>"
            ],
            "text/plain": [
              "     game_id game_grade  game_year  \\\n",
              "15        36         6B       2024   \n",
              "39        60         6B       2024   \n",
              "114      135         6B       2024   \n",
              "132      153         6B       2024   \n",
              "150      171         6B       2024   \n",
              "154      175         6B       2024   \n",
              "175      196         6B       2024   \n",
              "230      251         6B       2024   \n",
              "290      311         6B       2024   \n",
              "291      312         9A       2024   \n",
              "294      315         7E       2024   \n",
              "295      316         6C       2024   \n",
              "297      318         7E       2024   \n",
              "298      319         7E       2024   \n",
              "302      323         6B       2024   \n",
              "305      326         7E       2024   \n",
              "306      327         6C       2024   \n",
              "309      330         7E       2024   \n",
              "310      331         7C       2024   \n",
              "319      340         7C       2024   \n",
              "320      341         9C       2024   \n",
              "321      342         7E       2024   \n",
              "322      343         7E       2024   \n",
              "325      346         9D       2024   \n",
              "328      349         7E       2024   \n",
              "331      352         7E       2024   \n",
              "333      354         7E       2024   \n",
              "335      356         7E       2024   \n",
              "342      363         7E       2024   \n",
              "346      367         7C       2024   \n",
              "349      370         9B       2024   \n",
              "356      377         7E       2024   \n",
              "357      378         8D       2024   \n",
              "360      381         7E       2024   \n",
              "362      383         9D       2024   \n",
              "364      385         6D       2024   \n",
              "367      388         7E       2024   \n",
              "404      425         6B       2024   \n",
              "408      429         6B       2024   \n",
              "409      430         6B       2024   \n",
              "410      431         6E       2024   \n",
              "411      432         6E       2024   \n",
              "412      433         6E       2024   \n",
              "413      434         6E       2024   \n",
              "\n",
              "                                                player  hits multiplication  \\\n",
              "15                          Jubiscreuda Careca (Ana G)     0          8 x 6   \n",
              "39                            Miguel, Amanda e isabela     1         3 x 14   \n",
              "114                                                Cr7     3          1 x 9   \n",
              "132                                             Thiaga     0         2 x 15   \n",
              "150                                            Karine      2         5 x 14   \n",
              "154                                                Sla     0          3 x 4   \n",
              "175                                            Daniel.     0          4 x 7   \n",
              "230                                            Amabile    15         6 x 14   \n",
              "290                                       Eloá soares     15         5 x 14   \n",
              "291                                            Vinicus     7         1 x 10   \n",
              "294                                mel, Isa valen e ka     0         0 x 15   \n",
              "295                                              burro     2         8 x 12   \n",
              "297                                                Mel     3         4 x 14   \n",
              "298                                                  B     0         6 x 12   \n",
              "302                                        gay supremo     3         7 x 12   \n",
              "305                                Helena e Valentina      0          7 x 6   \n",
              "306                                       gay supremo      0         4 x 15   \n",
              "309                                                Wel     5         5 x 12   \n",
              "310                                        kid bengala     0         10 x 0   \n",
              "319  terminei o namoro pq estava comendo banana pel...     1          3 x 2   \n",
              "320                                      Fulano de tal     3         9 x 13   \n",
              "321                          Melissa, Eloísa e Cabral     19         4 x 12   \n",
              "322                                       Ana e julia      0         5 x 12   \n",
              "325                                               de 4     4          5 x 6   \n",
              "328                                        Ana e julia     0         9 x 14   \n",
              "331                                                heg     0          7 x 9   \n",
              "333                                                 Bd     2         5 x 14   \n",
              "335                                            Melissa     6          8 x 6   \n",
              "342                                                Ehh    17         3 x 10   \n",
              "346                                                 Us     6          8 x 8   \n",
              "349                                                uju     0          5 x 5   \n",
              "356                                               Hdjs     0          7 x 2   \n",
              "357                               hehdhdhdjdjdidjdjdjr     0         4 x 13   \n",
              "360                                             Maria      6         6 x 13   \n",
              "362                                              ususi     2         10 x 0   \n",
              "364                                        sjsikamakma     1         7 x 14   \n",
              "367                                                Ana    11         5 x 10   \n",
              "404                                               Nati     1          3 x 8   \n",
              "408                                Maria Clara Vargas      2          6 x 8   \n",
              "409                                        Maria clara     5         8 x 12   \n",
              "410                                             Liozin     0          4 x 8   \n",
              "411                                              Lalau     0          0 x 1   \n",
              "412                                  Fulano de tal 123     0          3 x 2   \n",
              "413                                    Um aleatorio 69     0         0 x 11   \n",
              "\n",
              "     answer  result  \n",
              "15        0      48  \n",
              "39        0      42  \n",
              "114       0       9  \n",
              "132       0      30  \n",
              "150      93      70  \n",
              "154      24      12  \n",
              "175      57      28  \n",
              "230      36      84  \n",
              "290      62      70  \n",
              "291      90      10  \n",
              "294      82       0  \n",
              "295      27      96  \n",
              "297       0      56  \n",
              "298       0      72  \n",
              "302      96      84  \n",
              "305       0      42  \n",
              "306       0      60  \n",
              "309      56      60  \n",
              "310      17       0  \n",
              "319      11       6  \n",
              "320      43     117  \n",
              "321      81      48  \n",
              "322       0      60  \n",
              "325       6      30  \n",
              "328       0     126  \n",
              "331      96      63  \n",
              "333       0      70  \n",
              "335      57      48  \n",
              "342       0      30  \n",
              "346       0      64  \n",
              "349       0      25  \n",
              "356       0      14  \n",
              "357       0      52  \n",
              "360      62      78  \n",
              "362       0       0  \n",
              "364      63      98  \n",
              "367       0      50  \n",
              "404       0      24  \n",
              "408      71      48  \n",
              "409      76      96  \n",
              "410       0      32  \n",
              "411       0       0  \n",
              "412       0       6  \n",
              "413      59       0  "
            ]
          },
          "execution_count": 7,
          "metadata": {},
          "output_type": "execute_result"
        }
      ],
>>>>>>> bfaa4958a25f1a607a4dff95f80ce0ad708716ee
      "source": [
        "# 1. Contar a ocorrência de cada jogador\n",
        "contagem = df['player'].value_counts()\n",
        "\n",
        "# 2. Criar a máscara booleana para valores que aparecem exatamente uma vez\n",
        "mascara = contagem[contagem == 1].index\n",
        "\n",
        "# 3. Filtrar o DataFrame original com a máscara booleana\n",
        "df_filtrado = df[df['player'].isin(mascara)]\n",
        "\n",
        "\n",
        "# Exibir o DataFrame filtrado\n",
        "df_filtrado"
      ]
    },
    {
      "cell_type": "markdown",
      "metadata": {
        "id": "zCpGlE1mDbUy"
      },
      "source": [
        "Os dados serão anonimizados eliminando a identificação do jogador."
      ]
    },
    {
      "cell_type": "code",
      "execution_count": 9,
      "metadata": {
        "id": "Af60xf72fhXA"
      },
      "outputs": [],
      "source": [
        "df = df[['game_id', 'hits','multiplication', 'answer', 'result']]\n",
        "df.to_csv('games_anonimo.csv', index=False)"
      ]
    },
    {
      "cell_type": "markdown",
      "metadata": {
        "id": "a_1EnT4xDqek"
      },
      "source": [
        "Verificando os dados e seus tipos. Observamos também se existe registros nulos."
      ]
    },
    {
      "cell_type": "code",
      "execution_count": null,
      "metadata": {
        "colab": {
          "base_uri": "https://localhost:8080/"
        },
        "id": "vRZAjRRNf2Mt",
        "outputId": "a18fcd35-0dc6-4f38-b90c-ca8e30a196b9"
      },
      "outputs": [],
      "source": [
        "df.info()"
      ]
    },
    {
      "cell_type": "markdown",
      "metadata": {
        "id": "gPR3yiIsD6XJ"
      },
      "source": [
        "Verificando algumas caracteristas estatísticas."
      ]
    },
    {
      "cell_type": "markdown",
      "metadata": {
        "id": "mZ4_qahbHpsP"
      },
      "source": [
        "#Descrição Estatística"
      ]
    },
    {
      "cell_type": "code",
      "execution_count": null,
      "metadata": {
        "colab": {
          "base_uri": "https://localhost:8080/",
          "height": 300
        },
        "id": "HKvu8L0df_Su",
        "outputId": "d79b55a7-e2b9-4eb8-f1c6-361add97b826"
      },
      "outputs": [],
      "source": [
        "df.describe()"
      ]
    },
    {
      "cell_type": "markdown",
      "metadata": {
        "id": "BX3sbacBD9Rq"
      },
      "source": [
        "Nestes dados podemos observar que a maior pontuação (hints) é de 35 pontos.\\\n",
        "Ainda, a mediana, ou seja, a pontuação mais comum é a de 3 pontos.\\\n",
        "75% das partidas foram inferiores a 7 pontos.\\\n",
        "50% fizeram menos de 3 pontos."
      ]
    },
    {
      "cell_type": "markdown",
      "metadata": {
        "id": "ns9sG4_DEmh7"
      },
      "source": [
        "Vamos filtrar o DataFrame para apresentar as multiplicações em que houveram mais erros por partida (mais que dois erros)"
      ]
    },
    {
      "cell_type": "code",
      "execution_count": 12,
      "metadata": {
        "id": "5twG10Z3gSA3"
      },
      "outputs": [],
      "source": [
        "df_multiplication = pd.DataFrame (df.multiplication.value_counts())\n",
        "df_multiplication_maior_que_dois=  df_multiplication[df_multiplication['count'] > 2]"
      ]
    },
    {
      "cell_type": "code",
      "execution_count": null,
      "metadata": {
        "colab": {
          "base_uri": "https://localhost:8080/",
          "height": 1000
        },
        "id": "v3mxJBepgr5t",
        "outputId": "21bd9e09-6f51-4704-fac4-c2677e029820"
      },
      "outputs": [],
      "source": [
        "# Cria o gráfico de barras horizontal\n",
        "plt.figure(figsize=(10, 10))  # Define o tamanho do gráfico\n",
        "plt.barh(df_multiplication_maior_que_dois.index, df_multiplication_maior_que_dois['count'])  # Plota o gráfico de barras horizontal\n",
        "plt.title('Contagem de Erros Mais Comuns por Multiplicações')  # Adiciona o título do gráfico\n",
        "plt.xlabel('Contagem de erros por multiplicação')  # Adiciona o rótulo do eixo x\n",
        "plt.ylabel('Multiplicação')  # Adiciona o rótulo do eixo y\n",
        "plt.gca().invert_yaxis()  # Inverte o eixo y para que as barras apareçam na ordem correta\n",
        "plt.tight_layout()  # Ajusta o layout para evitar que as labels se sobreponham\n",
        "plt.show()  # Exibe o gráfico"
      ]
    },
    {
      "cell_type": "markdown",
      "metadata": {
        "id": "MW_XYmfNEykt"
      },
      "source": [
        "Agora, vamos filtrar as multiplicações que houveram menos erros (2 ou menos)"
      ]
    },
    {
      "cell_type": "code",
      "execution_count": 14,
      "metadata": {
        "id": "Ra4DS66AhW_o"
      },
      "outputs": [],
      "source": [
        "df_multiplication = pd.DataFrame (df.multiplication.value_counts())\n",
        "df_multiplication_menor_que_dois=  df_multiplication[df_multiplication['count'] <= 2]"
      ]
    },
    {
      "cell_type": "code",
      "execution_count": null,
      "metadata": {
        "colab": {
          "base_uri": "https://localhost:8080/",
          "height": 1000
        },
        "id": "HaPshK8tnM91",
        "outputId": "b7b1ee3c-f2f4-4647-a998-31e9542bbabd"
      },
      "outputs": [],
      "source": [
        "# Cria o gráfico de barras horizontal\n",
        "plt.figure(figsize=(10, 15))  # Define o tamanho do gráfico\n",
        "plt.barh(df_multiplication_menor_que_dois.index, df_multiplication_menor_que_dois['count'])  # Plota o gráfico de barras horizontal\n",
        "plt.title('Contagem de Erros Menos Comuns por Multiplicações')  # Adiciona o título do gráfico\n",
        "plt.xlabel('Contagem de erros por multiplicação')  # Adiciona o rótulo do eixo x\n",
        "plt.ylabel('Multiplicação')  # Adiciona o rótulo do eixo y\n",
        "plt.gca().invert_yaxis()  # Inverte o eixo y para que as barras apareçam na ordem correta\n",
        "plt.tight_layout()  # Ajusta o layout para evitar que as labels se sobreponham\n",
        "plt.show()  # Exibe o gráfico"
      ]
    },
    {
      "cell_type": "markdown",
      "metadata": {
        "id": "B7FDLxWkFQtx"
      },
      "source": [
        "Vamos gerar um novo DataFrame com todas as multiplicações possíveis entre 0x0 e 15x10 e depois compará-las à nossa amostragem. Assim, vamos identificar quais as questões não foram erradas ou então, não foram apresentadas aos alunos."
      ]
    },
    {
      "cell_type": "code",
      "execution_count": null,
      "metadata": {
        "colab": {
          "base_uri": "https://localhost:8080/",
          "height": 424
        },
        "id": "NeVRUNmhnVic",
        "outputId": "7541c67c-4ac6-4204-d99b-23766d294aee"
      },
      "outputs": [],
      "source": [
        "# Lista para armazenar os resultados das multiplicações\n",
        "multiplicacoes = []\n",
        "\n",
        "# Loop para calcular as multiplicações de 0x0 a 15x10\n",
        "for i in range(16):  # Loop para o multiplicando (0 a 15)\n",
        "    for j in range(11):  # Loop para o multiplicador (0 a 10)\n",
        "        multiplicacao_str = f\"{i} x {j}\"  # Converte para string\n",
        "        multiplicacoes.append(multiplicacao_str)  # Adiciona à lista\n",
        "\n",
        "# Cria um DataFrame a partir da lista de resultados\n",
        "df_multiplicacoes = pd.DataFrame(multiplicacoes, columns=['Multiplicação'])\n",
        "\n",
        "# Exibe o DataFrame\n",
        "df_multiplicacoes"
      ]
    },
    {
      "cell_type": "code",
      "execution_count": null,
      "metadata": {
        "colab": {
          "base_uri": "https://localhost:8080/"
        },
        "id": "DnLCZppOvFQE",
        "outputId": "5275c12a-6867-4c86-81b4-d2c28207d1ac"
      },
      "outputs": [],
      "source": [
        "valores_sem_correspondencia = df_multiplicacoes[~df_multiplicacoes['Multiplicação'].isin(df['multiplication'])]\n",
        "pprint (f\"Multiplicações onde não houverem erros: {valores_sem_correspondencia['Multiplicação'].tolist()}\")"
      ]
    },
    {
      "cell_type": "markdown",
      "metadata": {
        "id": "Pid7aHTAFnG3"
      },
      "source": [
        "Analisando a distribuição de acertos pelo boxplot. Observamos que há um aluno que se destaca bastante nos acertos (35 pontos). A mediana se confirma em 3 pontos."
      ]
    },
    {
      "cell_type": "code",
      "execution_count": null,
      "metadata": {
        "colab": {
          "base_uri": "https://localhost:8080/",
          "height": 472
        },
        "id": "lvtdVbTFwH70",
        "outputId": "447a15cd-588b-433d-9c80-a40d42197727"
      },
      "outputs": [],
      "source": [
        "# Dados para o boxplot (supondo que 'df' seja seu DataFrame)\n",
        "dados = df['hits']\n",
        "# Calcula a mediana\n",
        "mediana = dados.median()\n",
        "\n",
        "# Cria o boxplot com Seaborn\n",
        "sns.boxplot(x=dados, notch=True, orient='h', width=0.5, color='lightblue')\n",
        "\n",
        "plt.axvline(x=mediana, color='blue', linestyle='--', linewidth=2)\n",
        "\n",
        "# Adiciona título ao gráfico\n",
        "plt.title('Pontuação dos Jogadores')\n",
        "\n",
        "# Adiciona rótulo aos eixos\n",
        "plt.xlabel('Pontuação')\n",
        "\n",
        "# Exibe o boxplot\n",
        "plt.show()\n"
      ]
    },
    {
      "cell_type": "code",
      "execution_count": null,
      "metadata": {
        "colab": {
          "base_uri": "https://localhost:8080/",
          "height": 206
        },
        "id": "AYiKad2LsrEI",
        "outputId": "cf956f71-c86b-49eb-c6e3-48d4b65e6066"
      },
      "outputs": [],
      "source": [
        "df.head()"
      ]
    },
    {
      "cell_type": "code",
      "execution_count": 20,
      "metadata": {
        "id": "O-gX-fwUs1St"
      },
      "outputs": [],
      "source": [
        "# Separar a coluna 'multiplication' em duas colunas 'fator1' e 'fator2'\n",
        "df[['fator1', 'fator2']] = df['multiplication'].str.split('x', expand=True)\n",
        "\n",
        "# Converter as novas colunas para o tipo inteiro\n",
        "df['fator1'] = df['fator1'].astype(int)\n",
        "df['fator2'] = df['fator2'].astype(int)"
      ]
    },
    {
      "cell_type": "code",
      "execution_count": null,
      "metadata": {
        "colab": {
          "base_uri": "https://localhost:8080/",
          "height": 424
        },
        "id": "AGZQpeD5uobX",
        "outputId": "55029b71-afcb-425e-85d0-b8c3726a2448"
      },
      "outputs": [],
      "source": [
        "from sklearn.cluster import KMeans\n",
        "\n",
        "# Usar as colunas numéricas (hits, result, fator1, fator2) para o clustering\n",
        "X = df[['hits', 'result', 'fator1', 'fator2']]\n",
        "\n",
        "# Aplicar o algoritmo KMeans com 2 clusters\n",
        "kmeans = KMeans(n_clusters=9)\n",
        "kmeans.fit(X)\n",
        "\n",
        "# Adicionar as previsões (clusters) ao DataFrame\n",
        "df['cluster'] = kmeans.labels_\n",
        "\n",
        "df\n"
      ]
    },
    {
      "cell_type": "code",
      "execution_count": null,
      "metadata": {
        "colab": {
          "base_uri": "https://localhost:8080/",
          "height": 472
        },
        "id": "CdJjjBzyvJm9",
        "outputId": "7a03b3a1-da97-44a7-b32b-767b1dced46d"
      },
      "outputs": [],
      "source": [
        "import matplotlib.pyplot as plt\n",
        "\n",
        "# Plotar os clusters usando 'fator1' e 'fator2'\n",
        "plt.scatter(df['fator1'], df['fator2'], c=df['cluster'], cmap='viridis', marker='o')\n",
        "plt.xlabel('Fator 1')\n",
        "plt.ylabel('Fator 2')\n",
        "plt.title('Clusters of Multiplication Factors')\n",
        "plt.colorbar(label='Cluster')  # Adiciona uma barra de cores para identificar os clusters\n",
        "plt.grid(True)  # Adiciona uma grade para melhor visualização\n",
        "plt.show()\n"
      ]
    },
    {
      "cell_type": "code",
      "execution_count": null,
      "metadata": {
        "colab": {
          "base_uri": "https://localhost:8080/",
          "height": 438
        },
        "id": "AjR_ZqabvlCV",
        "outputId": "c06e3ae2-e480-4c46-ccf2-1c087c6477e0"
      },
      "outputs": [],
      "source": [
        "from mpl_toolkits.mplot3d import Axes3D\n",
        "\n",
        "fig = plt.figure()\n",
        "ax = fig.add_subplot(111, projection='3d')\n",
        "\n",
        "# Plotar os clusters em 3D\n",
        "ax.scatter(df['fator1'], df['fator2'], df['result'], c=df['cluster'], cmap='viridis', marker='o')\n",
        "ax.set_xlabel('Fator 1')\n",
        "ax.set_ylabel('Fator 2')\n",
        "ax.set_zlabel('Result')\n",
        "ax.set_title('3D Clusters of Multiplication Factors and Result')\n",
        "\n",
        "plt.show()\n"
      ]
    },
    {
      "cell_type": "code",
      "execution_count": null,
      "metadata": {
        "colab": {
          "base_uri": "https://localhost:8080/"
        },
        "id": "7IWFoaNyvxxH",
        "outputId": "f6d32abc-ea73-4101-b01e-3c6c899bdc0d"
      },
      "outputs": [],
      "source": [
        "from sklearn.metrics import silhouette_score\n",
        "\n",
        "# Calcular o Silhouette Score\n",
        "score = silhouette_score(X, kmeans.labels_)\n",
        "print(f'Silhouette Score: {score:.2f}')\n"
      ]
    },
    {
      "cell_type": "code",
      "execution_count": null,
      "metadata": {
        "colab": {
          "base_uri": "https://localhost:8080/"
        },
        "id": "D97-FMBwwEOF",
        "outputId": "4093c3cb-61d7-446b-fed0-a1d046143b46"
      },
      "outputs": [],
      "source": [
        "inertia = kmeans.inertia_\n",
        "print(f'Inertia: {inertia:.2f}')\n"
      ]
    },
    {
      "cell_type": "code",
      "execution_count": null,
      "metadata": {
        "colab": {
          "base_uri": "https://localhost:8080/",
          "height": 472
        },
        "id": "xKcGJ83MxY49",
        "outputId": "6755866a-7015-43b2-807b-ed11bd622630"
      },
      "outputs": [],
      "source": [
        "inertias = []\n",
        "K = range(1, 10)\n",
        "for k in K:\n",
        "    kmeans = KMeans(n_clusters=k)\n",
        "    kmeans.fit(X)\n",
        "    inertias.append(kmeans.inertia_)\n",
        "\n",
        "plt.plot(K, inertias, 'bx-')\n",
        "plt.xlabel('Número de Clusters')\n",
        "plt.ylabel('Inertia')\n",
        "plt.title('Método do Cotovelo')\n",
        "plt.show()\n"
      ]
    },
    {
      "cell_type": "code",
      "execution_count": null,
      "metadata": {
        "id": "9ARRuV1smWVE"
      },
      "outputs": [],
      "source": [
        "from sklearn.preprocessing import StandardScaler\n",
        "from sklearn.cluster import KMeans, DBSCAN\n",
        "\n",
        "# Etapa de preparação - Excluir colunas irrelevantes (você pode ajustar conforme seus dados)\n",
        "df_clean = df.select_dtypes(include=['float64', 'int64']).dropna()\n",
        "\n",
        "# Padronização dos dados\n",
        "scaler = StandardScaler()\n",
        "df_scaled = scaler.fit_transform(df_clean)\n",
        "\n",
        "# Implementando K-Means\n",
        "kmeans = KMeans(n_clusters=3, random_state=42)\n",
        "kmeans_labels = kmeans.fit_predict(df_scaled)\n",
        "\n",
        "# Implementando DBSCAN\n",
        "dbscan = DBSCAN(eps=0.5, min_samples=5)\n",
        "dbscan_labels = dbscan.fit_predict(df_scaled)\n",
        "\n",
        "# Adicionando os rótulos aos dados originais\n",
        "df['KMeans_Cluster'] = kmeans_labels\n",
        "df['DBSCAN_Cluster'] = dbscan_labels\n",
        "\n",
        "# Visualização dos clusters\n",
        "sns.scatterplot(x=df_clean.iloc[:, 0], y=df_clean.iloc[:, 1], hue=kmeans_labels, palette='viridis')\n",
        "plt.title('K-Means Clustering')\n",
        "plt.show()\n",
        "\n",
        "sns.scatterplot(x=df_clean.iloc[:, 0], y=df_clean.iloc[:, 1], hue=dbscan_labels, palette='viridis')\n",
        "plt.title('DBSCAN Clustering')\n",
        "plt.show()"
      ]
    },
    {
      "cell_type": "code",
      "execution_count": null,
      "metadata": {},
      "outputs": [],
      "source": [
        "import streamlit as st\n",
        "import pandas as pd\n",
        "import plotly.express as px\n",
        "\n",
        "# Carregar o dataset\n",
        "df = pd.read_csv(\"games.csv\")\n",
        "\n",
        "# Criar um seletor de turma\n",
        "turmas = df['game_grade'].unique()\n",
        "turma_selecionada = st.selectbox('Selecione a turma:', turmas)\n",
        "\n",
        "# Filtrar os dados da turma selecionada\n",
        "df_turma = df[df['game_grade'] == turma_selecionada]\n",
        "\n",
        "# Calcular métricas relevantes\n",
        "acertos_por_nivel = df_turma.groupby('game_grade')['hits'].mean().reset_index()\n",
        "\n",
        "# Gráfico de barras - Acertos por nível\n",
        "fig = px.bar(acertos_por_nivel, x='game_grade', y='hits', title='Acertos Médios por Nível')\n",
        "st.plotly_chart(fig)\n",
        "\n",
        "\n"
      ]
    },
    {
      "cell_type": "code",
      "execution_count": null,
      "metadata": {},
      "outputs": [],
      "source": [
        "df"
      ]
    },
    {
      "cell_type": "code",
      "execution_count": null,
      "metadata": {},
      "outputs": [],
      "source": [
        "import matplotlib.pyplot as plt\n",
        "import seaborn as sns\n",
        "\n",
        "# Configurar o estilo dos gráficos\n",
        "sns.set(style='whitegrid')\n",
        "\n",
        "# Analisar a distribuição de acertos\n",
        "plt.figure(figsize=(10, 6))\n",
        "sns.histplot(df['hits'], bins=20, kde=True)\n",
        "plt.title('Distribuição de Acertos')\n",
        "plt.xlabel('Número de Acertos')\n",
        "plt.ylabel('Frequência')\n",
        "plt.show()\n",
        "\n",
        "# Analisar as multiplicações mais difíceis\n",
        "# Criar uma coluna para verificar se a resposta está correta\n",
        "df['correct'] = df['answer'] == df['result']\n",
        "\n",
        "# Agrupar por multiplicação e calcular a taxa de acertos\n",
        "multiplication_difficulty = df.groupby('multiplication')['correct'].mean().sort_values()\n",
        "\n",
        "# Visualizar as multiplicações mais difíceis\n",
        "plt.figure(figsize=(12, 8))\n",
        "multiplication_difficulty.plot(kind='barh')\n",
        "plt.title('Multiplicações Mais Difíceis (Menor Taxa de Acertos)')\n",
        "plt.xlabel('Taxa de Acertos')\n",
        "plt.ylabel('Multiplicação')\n",
        "plt.show()"
      ]
    },
    {
      "cell_type": "code",
      "execution_count": null,
      "metadata": {},
      "outputs": [],
      "source": [
        "import pandas as pd\n",
        "import matplotlib.pyplot as plt\n",
        "import seaborn as sns\n",
        "\n",
        "# Calcular a m\\u00e9dia de acertos por aluno\n",
        "student_performance = df.groupby('player')['hits'].mean().sort_values(ascending=False)\n",
        "\n",
        "# Visualizar o desempenho m\\u00e9dio dos alunos\n",
        "plt.figure(figsize=(12, 6))\n",
        "student_performance.plot(kind='bar')\n",
        "plt.title('Desempenho M\\u00e9dio dos Alunos')\n",
        "plt.xlabel('Aluno')\n",
        "plt.ylabel('M\\u00e9dia de Acertos')\n",
        "plt.xticks(rotation=90)\n",
        "plt.tight_layout()\n",
        "plt.show()\n",
        "\n",
        "# Identificar alunos que podem precisar de mais ajuda\n",
        "students_needing_help = student_performance[student_performance < student_performance.mean()]\n",
        "\n",
        "print(\"Alunos que podem precisar de mais ajuda:\")\n",
        "print(students_needing_help)\n",
        "\n",
        "# Analisar o progresso ao longo do tempo\n",
        "df['game_id'] = pd.to_numeric(df['game_id'])\n",
        "df = df.sort_values('game_id')\n",
        "df['cumulative_avg'] = df.groupby('player')['hits'].expanding().mean().reset_index(level=0, drop=True)\n",
        "\n",
        "# Visualizar o progresso dos alunos ao longo do tempo\n",
        "plt.figure(figsize=(12, 6))\n",
        "for player in df['player'].unique():\n",
        "    player_data = df[df['player'] == player]\n",
        "    plt.plot(player_data['game_id'], player_data['cumulative_avg'], label=player)\n",
        "\n",
        "plt.title('Progresso dos Alunos ao Longo do Tempo')\n",
        "plt.xlabel('ID do Jogo')\n",
        "plt.ylabel('M\\u00e9dia Cumulativa de Acertos')\n",
        "plt.legend(bbox_to_anchor=(1.05, 1), loc='upper left')\n",
        "plt.tight_layout()\n",
        "plt.show()\n",
        "\n",
        "# An\\u00e1lise das opera\\u00e7\\u00f5es mais frequentes\n",
        "operation_frequency = df['multiplication'].value_counts()\n",
        "\n",
        "plt.figure(figsize=(12, 6))\n",
        "operation_frequency.plot(kind='bar')\n",
        "plt.title('Frequ\\u00eancia das Opera\\u00e7\\u00f5es de Multiplica\\u00e7\\u00e3o')\n",
        "plt.xlabel('Opera\\u00e7\\u00e3o')\n",
        "plt.ylabel('Frequ\\u00eancia')\n",
        "plt.xticks(rotation=90)\n",
        "plt.tight_layout()\n",
        "plt.show()"
      ]
    },
    {
      "cell_type": "code",
      "execution_count": null,
      "metadata": {},
      "outputs": [],
      "source": []
    }
  ],
  "metadata": {
    "colab": {
      "provenance": []
    },
    "kernelspec": {
      "display_name": "Python 3",
      "language": "python",
      "name": "python3"
    },
    "language_info": {
      "codemirror_mode": {
        "name": "ipython",
        "version": 3
      },
      "file_extension": ".py",
      "mimetype": "text/x-python",
      "name": "python",
      "nbconvert_exporter": "python",
      "pygments_lexer": "ipython3",
      "version": "3.11.8"
    }
  },
  "nbformat": 4,
  "nbformat_minor": 0
}
